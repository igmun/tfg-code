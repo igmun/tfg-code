{
 "cells": [
  {
   "cell_type": "code",
   "execution_count": 1,
   "id": "7a776264",
   "metadata": {},
   "outputs": [],
   "source": [
    "import nasdaqdatalink as ndl\n",
    "import pandas as pd\n",
    "from ta import add_all_ta_features\n",
    "import zipfile\n",
    "import seaborn as sns\n",
    "import matplotlib.pyplot as plt\n",
    "import missingno as msno\n",
    "import numpy as np\n",
    "\n",
    "from sklearn.linear_model import LinearRegression\n",
    "from sklearn.model_selection import TimeSeriesSplit\n",
    "from sklearn.metrics import mean_squared_error, r2_score\n",
    "\n"
   ]
  },
  {
   "cell_type": "code",
   "execution_count": 2,
   "id": "03e8160e",
   "metadata": {},
   "outputs": [],
   "source": [
    "data_base = pd.read_csv('../data/data_base.csv', parse_dates=['date'])"
   ]
  }
 ],
 "metadata": {
  "kernelspec": {
   "display_name": "sp500_env",
   "language": "python",
   "name": "python3"
  },
  "language_info": {
   "codemirror_mode": {
    "name": "ipython",
    "version": 3
   },
   "file_extension": ".py",
   "mimetype": "text/x-python",
   "name": "python",
   "nbconvert_exporter": "python",
   "pygments_lexer": "ipython3",
   "version": "3.11.5"
  }
 },
 "nbformat": 4,
 "nbformat_minor": 5
}
