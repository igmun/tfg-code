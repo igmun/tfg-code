{
 "cells": [
  {
   "cell_type": "markdown",
   "id": "eda668b2",
   "metadata": {},
   "source": [
    "## Importar librerias necesarias, trabajomos con nasdaq data link"
   ]
  },
  {
   "cell_type": "code",
   "execution_count": 2,
   "id": "6c35e43d",
   "metadata": {},
   "outputs": [],
   "source": [
    "import nasdaqdatalink as ndl\n",
    "import pandas as pd\n",
    "from ta import add_all_ta_features\n",
    "import pandas as pd\n",
    "import zipfile\n",
    "import json"
   ]
  },
  {
   "cell_type": "markdown",
   "id": "49c6a535",
   "metadata": {},
   "source": [
    "## (Opcional) Visualizar máximo número de filas y columnas en df"
   ]
  },
  {
   "cell_type": "code",
   "execution_count": 2,
   "id": "6ceb3cb9",
   "metadata": {},
   "outputs": [],
   "source": [
    "#configurations\n",
    "pd.set_option('display.max_columns', None)\n",
    "pd.set_option('display.max_rows', None)\n"
   ]
  },
  {
   "cell_type": "markdown",
   "id": "a18f2dcf",
   "metadata": {},
   "source": [
    "## Configuración de API key"
   ]
  },
  {
   "cell_type": "code",
   "execution_count": 3,
   "id": "da5dc728",
   "metadata": {},
   "outputs": [],
   "source": [
    "\n",
    "with open(r'..\\config\\ndl-config.json') as f:\n",
    "    config = json.load(f)\n",
    "\n",
    "api_key = config['API_KEY']\n",
    "ndl.ApiConfig.api_key = api_key\n"
   ]
  },
  {
   "cell_type": "markdown",
   "id": "9e0962d4",
   "metadata": {},
   "source": [
    "## Definimos el inicio de nuestro dataset"
   ]
  },
  {
   "cell_type": "code",
   "execution_count": 4,
   "id": "9b6a2300",
   "metadata": {},
   "outputs": [],
   "source": [
    "start_date = '1998-01-01'"
   ]
  },
  {
   "cell_type": "markdown",
   "id": "fb1f8cdb",
   "metadata": {},
   "source": [
    "## Descarga Constituyentes Históricos SP500"
   ]
  },
  {
   "cell_type": "code",
   "execution_count": 5,
   "id": "a37aac80",
   "metadata": {},
   "outputs": [
    {
     "name": "stderr",
     "output_type": "stream",
     "text": [
      "C:\\Users\\Ignacio\\AppData\\Local\\Temp\\ipykernel_14756\\1897431454.py:5: SettingWithCopyWarning: \n",
      "A value is trying to be set on a copy of a slice from a DataFrame\n",
      "\n",
      "See the caveats in the documentation: https://pandas.pydata.org/pandas-docs/stable/user_guide/indexing.html#returning-a-view-versus-a-copy\n",
      "  sp500.drop(columns=['action', 'name', 'contraticker', 'contraname','note'], inplace=True)\n"
     ]
    },
    {
     "data": {
      "text/html": [
       "<div>\n",
       "<style scoped>\n",
       "    .dataframe tbody tr th:only-of-type {\n",
       "        vertical-align: middle;\n",
       "    }\n",
       "\n",
       "    .dataframe tbody tr th {\n",
       "        vertical-align: top;\n",
       "    }\n",
       "\n",
       "    .dataframe thead th {\n",
       "        text-align: right;\n",
       "    }\n",
       "</style>\n",
       "<table border=\"1\" class=\"dataframe\">\n",
       "  <thead>\n",
       "    <tr style=\"text-align: right;\">\n",
       "      <th></th>\n",
       "      <th>date</th>\n",
       "      <th>ticker</th>\n",
       "    </tr>\n",
       "    <tr>\n",
       "      <th>None</th>\n",
       "      <th></th>\n",
       "      <th></th>\n",
       "    </tr>\n",
       "  </thead>\n",
       "  <tbody>\n",
       "    <tr>\n",
       "      <th>0</th>\n",
       "      <td>2025-03-31</td>\n",
       "      <td>ZTS</td>\n",
       "    </tr>\n",
       "    <tr>\n",
       "      <th>1</th>\n",
       "      <td>2025-03-31</td>\n",
       "      <td>ZBRA</td>\n",
       "    </tr>\n",
       "    <tr>\n",
       "      <th>2</th>\n",
       "      <td>2025-03-31</td>\n",
       "      <td>ZBH</td>\n",
       "    </tr>\n",
       "    <tr>\n",
       "      <th>3</th>\n",
       "      <td>2025-03-31</td>\n",
       "      <td>YUM</td>\n",
       "    </tr>\n",
       "    <tr>\n",
       "      <th>4</th>\n",
       "      <td>2025-03-31</td>\n",
       "      <td>XYL</td>\n",
       "    </tr>\n",
       "  </tbody>\n",
       "</table>\n",
       "</div>"
      ],
      "text/plain": [
       "           date ticker\n",
       "None                  \n",
       "0    2025-03-31    ZTS\n",
       "1    2025-03-31   ZBRA\n",
       "2    2025-03-31    ZBH\n",
       "3    2025-03-31    YUM\n",
       "4    2025-03-31    XYL"
      ]
     },
     "execution_count": 5,
     "metadata": {},
     "output_type": "execute_result"
    }
   ],
   "source": [
    "all = ndl.get_table(\"SHARADAR/SP500\", action = \"historical\", date={'gte':start_date}, paginate=True)\n",
    "\n",
    "# filtrar solo para final del Q1 cada año, (Marzo) esta será nuestra fecha de rabalanceo del portfolio\n",
    "sp500 = all[all['date'].dt.month == 3]\n",
    "sp500.drop(columns=['action', 'name', 'contraticker', 'contraname','note'], inplace=True)\n",
    "sp500.head()"
   ]
  },
  {
   "cell_type": "code",
   "execution_count": 6,
   "id": "abf29b65",
   "metadata": {},
   "outputs": [],
   "source": [
    "sp500.to_csv(\"../data/sp500.csv\", index=False)"
   ]
  },
  {
   "cell_type": "markdown",
   "id": "a24e1571",
   "metadata": {},
   "source": [
    "#### Número de tickers participantes históricos en el sp500"
   ]
  },
  {
   "cell_type": "code",
   "execution_count": 7,
   "id": "f4928020",
   "metadata": {},
   "outputs": [
    {
     "data": {
      "text/plain": [
       "1132"
      ]
     },
     "execution_count": 7,
     "metadata": {},
     "output_type": "execute_result"
    }
   ],
   "source": [
    "sp500['ticker'].nunique()"
   ]
  },
  {
   "cell_type": "markdown",
   "id": "5f565541",
   "metadata": {},
   "source": [
    "#### Verificamos que tenemos aproximadamente 500 tickers para cada año"
   ]
  },
  {
   "cell_type": "code",
   "execution_count": 8,
   "id": "4785a22c",
   "metadata": {},
   "outputs": [
    {
     "data": {
      "text/plain": [
       "500"
      ]
     },
     "execution_count": 8,
     "metadata": {},
     "output_type": "execute_result"
    }
   ],
   "source": [
    "sp500[sp500['date'] ==\"2010-03-31\"]['ticker'].nunique()"
   ]
  },
  {
   "cell_type": "markdown",
   "id": "555a4002",
   "metadata": {},
   "source": [
    "## 2. Descarga fundamentales trimestrales (ARY) desde 1998\n"
   ]
  },
  {
   "cell_type": "code",
   "execution_count": 19,
   "id": "5cb8874d",
   "metadata": {},
   "outputs": [],
   "source": [
    "tickers = sp500['ticker'].tolist()"
   ]
  },
  {
   "cell_type": "code",
   "execution_count": null,
   "id": "c9375a40",
   "metadata": {},
   "outputs": [],
   "source": [
    "fundamental = ndl.get_table(\n",
    "    \"SHARADAR/SF1\",\n",
    "    ticker=tickers,\n",
    "    calendarDate={\"gte\": start_date},\n",
    "    dimension=\"ARY\",\n",
    "    qopts={\"columns\": [\n",
    "        \"ticker\",\"datekey\",\"calendarDate\",\"revenue\",\"eps\",\"ebitda\",\"netinc\",\n",
    "        \"roe\",\"evebitda\",\"fcfps\",\"pb\",\"pe\",\"marketcap\",\"ebit\",\"currentratio\",\"capex\",\"ncfo\",\"equity\",\"de\"\n",
    "    ]},\n",
    "    paginate=True\n",
    ")\n",
    "fundamental = fundamental.rename(columns={\"calendardate\":\"date\"})\n",
    "fundamental[\"date\"]    = pd.to_datetime(fundamental[\"date\"])\n",
    "fundamental[\"year\"] = fundamental[\"date\"].dt.to_period(\"Y\")\n",
    "\n",
    "fundamental.to_csv(r'data\\fundamental.csv')\n"
   ]
  },
  {
   "cell_type": "code",
   "execution_count": 37,
   "id": "d2c877be",
   "metadata": {},
   "outputs": [
    {
     "name": "stdout",
     "output_type": "stream",
     "text": [
      "2025-05-23 00:00:00\n"
     ]
    }
   ],
   "source": [
    "max_datekey = fundamental['datekey'].max()\n",
    "print(max_datekey)"
   ]
  },
  {
   "cell_type": "markdown",
   "id": "58e1e75e",
   "metadata": {},
   "source": [
    "## 3. Descarga precios diarios desde 1998"
   ]
  },
  {
   "cell_type": "code",
   "execution_count": 20,
   "id": "c77374ee",
   "metadata": {},
   "outputs": [],
   "source": [
    "ndl.export_table('SHARADAR/SEP',ticker= tickers, date = {\"gte\":start_date}, filename='prices.zip')"
   ]
  },
  {
   "cell_type": "markdown",
   "id": "d3bcb704",
   "metadata": {},
   "source": [
    "#### Debido al gran tamaño de _prices_ (1132 empresas, datos diarios, 27 años) es necesario descargar comprimible "
   ]
  },
  {
   "cell_type": "code",
   "execution_count": null,
   "id": "329d88d6",
   "metadata": {},
   "outputs": [],
   "source": [
    "# 1) Abre el ZIP y localiza el CSV de precios\n",
    "zip_path = r'data\\prices.zip'   # ajusta si tu ZIP se llama distinto o está en otra ruta\n",
    "with zipfile.ZipFile(zip_path, 'r') as z:\n",
    "    # busca el primer fichero que termine en .csv\n",
    "    precios_csv = next(fname for fname in z.namelist() if fname.lower().endswith('.csv'))\n",
    "    # carga el CSV parseando la columna 'date'\n",
    "    prices = pd.read_csv(z.open(precios_csv), parse_dates=['date'])\n",
    "    prices.to_csv(r'data\\prices.csv.gz', index=False, compression='gzip') #Guasrdamos como versión comprimida de csv (7M rows)\n"
   ]
  },
  {
   "cell_type": "markdown",
   "id": "9000a217",
   "metadata": {},
   "source": [
    "## Crea variables momentum 6M y 12M lagged (Tras trabajar, poner en otro documento y arreglar extraccion, de csv en vez de zip)"
   ]
  },
  {
   "cell_type": "code",
   "execution_count": null,
   "id": "3fc7e464",
   "metadata": {},
   "outputs": [
    {
     "name": "stdout",
     "output_type": "stream",
     "text": [
      "   ticker rebalance_date  closeadj    ret_6m   ret_12m\n",
      "4       A     2000-03-31    63.265       NaN       NaN\n",
      "16      A     2001-03-31    18.694 -0.372073 -0.704513\n",
      "28      A     2002-03-31    21.267  0.788195  0.137638\n",
      "40      A     2003-03-31     7.999  0.006797 -0.623877\n",
      "52      A     2004-03-31    19.241  0.430558  1.405426\n"
     ]
    }
   ],
   "source": [
    "import pandas as pd\n",
    "import zipfile\n",
    "\n",
    "# 1) Abre el ZIP y localiza el CSV de precios\n",
    "zip_path = r'..\\data\\prices.zip'   # ajusta si tu ZIP se llama distinto o está en otra ruta\n",
    "with zipfile.ZipFile(zip_path, 'r') as z:\n",
    "    # busca el primer fichero que termine en .csv\n",
    "    precios_csv = next(fname for fname in z.namelist() if fname.lower().endswith('.csv'))\n",
    "    # carga el CSV parseando la columna 'date'\n",
    "    prices = pd.read_csv(z.open(precios_csv), parse_dates=['date'])\n",
    "\n",
    "# 2) Normaliza nombres, comprueba que existan e índice ordenado\n",
    "prices = prices.rename(columns=str.lower)   # 'Ticker'→'ticker', 'Date'→'date', etc.\n",
    "required = ['ticker','date','closeadj']\n",
    "assert all(col in prices.columns for col in required), \"Falta alguna de: ticker, date, closeadj\"\n",
    "prices = prices.sort_values(['ticker','date']).reset_index(drop=True)\n",
    "\n",
    "# 3) Extrae cierres ajustados al final de cada mes\n",
    "monthly = (\n",
    "    prices\n",
    "    .groupby('ticker')\n",
    "    .resample('ME', on='date')['closeadj']  # 'ME' = month end\n",
    "    .last()                                 # último valor del mes\n",
    "    .dropna()                               # elimina meses vacíos\n",
    "    .reset_index()\n",
    ")\n",
    "\n",
    "# 4) Calcula retornos a 6 y 12 meses\n",
    "for m in (6, 12):\n",
    "    monthly[f'ret_{m}m'] = (\n",
    "        monthly\n",
    "        .groupby('ticker')['closeadj']\n",
    "        .pct_change(periods=m)\n",
    "    )\n",
    "\n",
    "# 5) Filtra solo los finales de marzo (rebalanceo anual)\n",
    "rebalance = monthly[monthly['date'].dt.month == 3].copy()\n",
    "\n",
    "# 6) (Opcional) Si quisieras renombrar la fecha a 'rebalance_date'\n",
    "rebalance = rebalance.rename(columns={'date':'rebalance_date'})\n",
    "\n",
    "# 7) Guarda en CSV\n",
    "rebalance.to_csv(r'..\\data\\rebalance_returns.csv', index=False)\n",
    "\n",
    "# 8) Vista previa\n",
    "print(rebalance.head())\n"
   ]
  },
  {
   "cell_type": "markdown",
   "id": "0efb28ca",
   "metadata": {},
   "source": [
    "## Comprobaciones para momentum max y min "
   ]
  },
  {
   "cell_type": "markdown",
   "id": "5a0f4b0f",
   "metadata": {},
   "source": [
    "## Comprobaciones para Momementum, nan para primeras 6 y 11 filas de ret_6 y ret_11"
   ]
  },
  {
   "cell_type": "code",
   "execution_count": null,
   "id": "b944af23",
   "metadata": {},
   "outputs": [
    {
     "name": "stdout",
     "output_type": "stream",
     "text": [
      "Retornos para AAPL:\n",
      "\n"
     ]
    },
    {
     "data": {
      "text/html": [
       "<div>\n",
       "<style scoped>\n",
       "    .dataframe tbody tr th:only-of-type {\n",
       "        vertical-align: middle;\n",
       "    }\n",
       "\n",
       "    .dataframe tbody tr th {\n",
       "        vertical-align: top;\n",
       "    }\n",
       "\n",
       "    .dataframe thead th {\n",
       "        text-align: right;\n",
       "    }\n",
       "</style>\n",
       "<table border=\"1\" class=\"dataframe\">\n",
       "  <thead>\n",
       "    <tr style=\"text-align: right;\">\n",
       "      <th></th>\n",
       "      <th>date</th>\n",
       "      <th>closeadj</th>\n",
       "      <th>ret_6m</th>\n",
       "      <th>ret_11m</th>\n",
       "    </tr>\n",
       "  </thead>\n",
       "  <tbody>\n",
       "    <tr>\n",
       "      <th>0</th>\n",
       "      <td>1998-01-31</td>\n",
       "      <td>0.138</td>\n",
       "      <td>NaN</td>\n",
       "      <td>NaN</td>\n",
       "    </tr>\n",
       "    <tr>\n",
       "      <th>1</th>\n",
       "      <td>1998-02-28</td>\n",
       "      <td>0.178</td>\n",
       "      <td>NaN</td>\n",
       "      <td>NaN</td>\n",
       "    </tr>\n",
       "    <tr>\n",
       "      <th>2</th>\n",
       "      <td>1998-03-31</td>\n",
       "      <td>0.207</td>\n",
       "      <td>NaN</td>\n",
       "      <td>NaN</td>\n",
       "    </tr>\n",
       "    <tr>\n",
       "      <th>3</th>\n",
       "      <td>1998-04-30</td>\n",
       "      <td>0.206</td>\n",
       "      <td>NaN</td>\n",
       "      <td>NaN</td>\n",
       "    </tr>\n",
       "    <tr>\n",
       "      <th>4</th>\n",
       "      <td>1998-05-31</td>\n",
       "      <td>0.200</td>\n",
       "      <td>NaN</td>\n",
       "      <td>NaN</td>\n",
       "    </tr>\n",
       "    <tr>\n",
       "      <th>5</th>\n",
       "      <td>1998-06-30</td>\n",
       "      <td>0.216</td>\n",
       "      <td>NaN</td>\n",
       "      <td>NaN</td>\n",
       "    </tr>\n",
       "    <tr>\n",
       "      <th>6</th>\n",
       "      <td>1998-07-31</td>\n",
       "      <td>0.260</td>\n",
       "      <td>0.884058</td>\n",
       "      <td>NaN</td>\n",
       "    </tr>\n",
       "    <tr>\n",
       "      <th>7</th>\n",
       "      <td>1998-08-31</td>\n",
       "      <td>0.234</td>\n",
       "      <td>0.314607</td>\n",
       "      <td>NaN</td>\n",
       "    </tr>\n",
       "    <tr>\n",
       "      <th>8</th>\n",
       "      <td>1998-09-30</td>\n",
       "      <td>0.287</td>\n",
       "      <td>0.386473</td>\n",
       "      <td>NaN</td>\n",
       "    </tr>\n",
       "    <tr>\n",
       "      <th>9</th>\n",
       "      <td>1998-10-31</td>\n",
       "      <td>0.279</td>\n",
       "      <td>0.354369</td>\n",
       "      <td>NaN</td>\n",
       "    </tr>\n",
       "    <tr>\n",
       "      <th>10</th>\n",
       "      <td>1998-11-30</td>\n",
       "      <td>0.240</td>\n",
       "      <td>0.200000</td>\n",
       "      <td>NaN</td>\n",
       "    </tr>\n",
       "    <tr>\n",
       "      <th>11</th>\n",
       "      <td>1998-12-31</td>\n",
       "      <td>0.308</td>\n",
       "      <td>0.425926</td>\n",
       "      <td>1.231884</td>\n",
       "    </tr>\n",
       "  </tbody>\n",
       "</table>\n",
       "</div>"
      ],
      "text/plain": [
       "         date  closeadj    ret_6m   ret_11m\n",
       "0  1998-01-31     0.138       NaN       NaN\n",
       "1  1998-02-28     0.178       NaN       NaN\n",
       "2  1998-03-31     0.207       NaN       NaN\n",
       "3  1998-04-30     0.206       NaN       NaN\n",
       "4  1998-05-31     0.200       NaN       NaN\n",
       "5  1998-06-30     0.216       NaN       NaN\n",
       "6  1998-07-31     0.260  0.884058       NaN\n",
       "7  1998-08-31     0.234  0.314607       NaN\n",
       "8  1998-09-30     0.287  0.386473       NaN\n",
       "9  1998-10-31     0.279  0.354369       NaN\n",
       "10 1998-11-30     0.240  0.200000       NaN\n",
       "11 1998-12-31     0.308  0.425926  1.231884"
      ]
     },
     "metadata": {},
     "output_type": "display_data"
    }
   ],
   "source": [
    "# Supongamos que tu DataFrame mensual se llama `monthly`\n",
    "# y que ya tiene columnas ['ticker','date','closeadj','ret_6m','ret_11m',...]\n",
    "\n",
    "def mostrar_retornos(ticker):\n",
    "    # 1) Filtrar sólo ese ticker y ordenar por fecha\n",
    "    df_t = (monthly\n",
    "            .loc[monthly['ticker'] == ticker]\n",
    "            .sort_values('date')\n",
    "            .reset_index(drop=True))\n",
    "    \n",
    "    # 2) Mostrar las primeras 12 filas (un año)\n",
    "    print(f\"Retornos para {ticker}:\\n\")\n",
    "    display(df_t[['date','closeadj','ret_6m','ret_12m']].head(12))\n",
    "\n",
    "# Ejemplo: revisa el primer año de AAPL\n",
    "mostrar_retornos('AAPL')\n"
   ]
  },
  {
   "cell_type": "markdown",
   "id": "068acbff",
   "metadata": {},
   "source": [
    "## Crear varible técnicas"
   ]
  },
  {
   "cell_type": "code",
   "execution_count": null,
   "id": "93d157eb",
   "metadata": {},
   "outputs": [],
   "source": [
    "import pandas as pd\n",
    "\n",
    "# 1. Carga y ordenación\n",
    "df = pd.read_csv(\n",
    "    r\"..\\data\\prices.csv.gz\",\n",
    "    compression=\"gzip\",\n",
    "    parse_dates=[\"date\"]\n",
    ")\n",
    "df = df.sort_values([\"ticker\", \"date\"])\n",
    "df[\"year\"] = df[\"date\"].dt.year\n",
    "\n",
    "# 2. Último día de marzo de cada año y ticker\n",
    "march = df[df[\"date\"].dt.month == 3]\n",
    "rebalance = (\n",
    "    march\n",
    "    .groupby([\"ticker\", \"year\"], as_index=False)\n",
    "    .agg(rebalance_date=(\"date\", \"max\"))\n",
    ")\n",
    "\n",
    "# 3. Cálculo de features por ticker+year usando precios ajustados (closeadj)\n",
    "records = []\n",
    "for _, row in rebalance.iterrows():\n",
    "    tkr = row[\"ticker\"]\n",
    "    d0  = row[\"rebalance_date\"]\n",
    "    # Ventana de 1 y 2 años antes del rebalance\n",
    "    win1 = df[\n",
    "        (df[\"ticker\"] == tkr) &\n",
    "        (df[\"date\"] >  d0 - pd.Timedelta(days=365)) &\n",
    "        (df[\"date\"] <= d0)\n",
    "    ]\n",
    "    win2 = df[\n",
    "        (df[\"ticker\"] == tkr) &\n",
    "        (df[\"date\"] >  d0 - pd.Timedelta(days=730)) &\n",
    "        (df[\"date\"] <= d0)\n",
    "    ]\n",
    "    if win1.empty:\n",
    "        continue\n",
    "\n",
    "    records.append({\n",
    "        \"ticker\":         tkr,\n",
    "        \"year\":           row[\"year\"],\n",
    "        \"rebalance_date\": d0,\n",
    "        # Último cierre ajustado antes del rebalance\n",
    "        \"close_reb_adj\":  win1[\"closeadj\"].iloc[-1],\n",
    "        \"vol_1y\":         win1[\"volume\"].sum(),\n",
    "        \"max_1y\":         win1[\"closeadj\"].max(),\n",
    "        \"min_1y\":         win1[\"closeadj\"].min(),\n",
    "        \"sma_1y\":         win1[\"closeadj\"].mean(),\n",
    "        \"sma_2y\":         win2[\"closeadj\"].mean() if not win2.empty else None,\n",
    "        \"volatility_1y\":  win1[\"closeadj\"].pct_change().std() * (252**0.5)\n",
    "    })\n",
    "\n",
    "tecnico = pd.DataFrame(records)\n",
    "\n",
    "# 4. Guardar en CSV\n",
    "tecnico.to_csv(r\"..\\data\\tecnico.csv\", index=False)\n"
   ]
  },
  {
   "cell_type": "code",
   "execution_count": 2,
   "id": "54ddbc4f",
   "metadata": {},
   "outputs": [
    {
     "data": {
      "text/html": [
       "<div>\n",
       "<style scoped>\n",
       "    .dataframe tbody tr th:only-of-type {\n",
       "        vertical-align: middle;\n",
       "    }\n",
       "\n",
       "    .dataframe tbody tr th {\n",
       "        vertical-align: top;\n",
       "    }\n",
       "\n",
       "    .dataframe thead th {\n",
       "        text-align: right;\n",
       "    }\n",
       "</style>\n",
       "<table border=\"1\" class=\"dataframe\">\n",
       "  <thead>\n",
       "    <tr style=\"text-align: right;\">\n",
       "      <th></th>\n",
       "      <th>ticker</th>\n",
       "      <th>year</th>\n",
       "      <th>rebalance_date</th>\n",
       "      <th>close_reb_adj</th>\n",
       "      <th>vol_1y</th>\n",
       "      <th>max_1y</th>\n",
       "      <th>min_1y</th>\n",
       "      <th>sma_1y</th>\n",
       "      <th>sma_2y</th>\n",
       "      <th>volatility_1y</th>\n",
       "    </tr>\n",
       "  </thead>\n",
       "  <tbody>\n",
       "    <tr>\n",
       "      <th>0</th>\n",
       "      <td>A</td>\n",
       "      <td>2000</td>\n",
       "      <td>2000-03-31</td>\n",
       "      <td>63.265</td>\n",
       "      <td>220099000.0</td>\n",
       "      <td>96.723</td>\n",
       "      <td>24.485</td>\n",
       "      <td>48.119387</td>\n",
       "      <td>48.119387</td>\n",
       "      <td>1.188489</td>\n",
       "    </tr>\n",
       "    <tr>\n",
       "      <th>1</th>\n",
       "      <td>A</td>\n",
       "      <td>2001</td>\n",
       "      <td>2001-03-30</td>\n",
       "      <td>18.694</td>\n",
       "      <td>847576400.0</td>\n",
       "      <td>74.215</td>\n",
       "      <td>18.250</td>\n",
       "      <td>35.402956</td>\n",
       "      <td>38.759834</td>\n",
       "      <td>0.951615</td>\n",
       "    </tr>\n",
       "    <tr>\n",
       "      <th>2</th>\n",
       "      <td>A</td>\n",
       "      <td>2002</td>\n",
       "      <td>2002-03-28</td>\n",
       "      <td>21.267</td>\n",
       "      <td>571608700.0</td>\n",
       "      <td>24.576</td>\n",
       "      <td>11.473</td>\n",
       "      <td>17.982242</td>\n",
       "      <td>26.952406</td>\n",
       "      <td>0.582828</td>\n",
       "    </tr>\n",
       "    <tr>\n",
       "      <th>3</th>\n",
       "      <td>A</td>\n",
       "      <td>2003</td>\n",
       "      <td>2003-03-31</td>\n",
       "      <td>7.999</td>\n",
       "      <td>677176600.0</td>\n",
       "      <td>22.222</td>\n",
       "      <td>6.600</td>\n",
       "      <td>11.631502</td>\n",
       "      <td>14.760365</td>\n",
       "      <td>0.656080</td>\n",
       "    </tr>\n",
       "    <tr>\n",
       "      <th>4</th>\n",
       "      <td>A</td>\n",
       "      <td>2004</td>\n",
       "      <td>2004-03-31</td>\n",
       "      <td>19.241</td>\n",
       "      <td>653408900.0</td>\n",
       "      <td>22.806</td>\n",
       "      <td>8.352</td>\n",
       "      <td>15.060278</td>\n",
       "      <td>13.314752</td>\n",
       "      <td>0.349033</td>\n",
       "    </tr>\n",
       "  </tbody>\n",
       "</table>\n",
       "</div>"
      ],
      "text/plain": [
       "  ticker  year rebalance_date  close_reb_adj       vol_1y  max_1y  min_1y  \\\n",
       "0      A  2000     2000-03-31         63.265  220099000.0  96.723  24.485   \n",
       "1      A  2001     2001-03-30         18.694  847576400.0  74.215  18.250   \n",
       "2      A  2002     2002-03-28         21.267  571608700.0  24.576  11.473   \n",
       "3      A  2003     2003-03-31          7.999  677176600.0  22.222   6.600   \n",
       "4      A  2004     2004-03-31         19.241  653408900.0  22.806   8.352   \n",
       "\n",
       "      sma_1y     sma_2y  volatility_1y  \n",
       "0  48.119387  48.119387       1.188489  \n",
       "1  35.402956  38.759834       0.951615  \n",
       "2  17.982242  26.952406       0.582828  \n",
       "3  11.631502  14.760365       0.656080  \n",
       "4  15.060278  13.314752       0.349033  "
      ]
     },
     "execution_count": 2,
     "metadata": {},
     "output_type": "execute_result"
    }
   ],
   "source": [
    "tecnico.head()"
   ]
  }
 ],
 "metadata": {
  "kernelspec": {
   "display_name": "thesis-ml",
   "language": "python",
   "name": "python3"
  },
  "language_info": {
   "codemirror_mode": {
    "name": "ipython",
    "version": 3
   },
   "file_extension": ".py",
   "mimetype": "text/x-python",
   "name": "python",
   "nbconvert_exporter": "python",
   "pygments_lexer": "ipython3",
   "version": "3.10.16"
  }
 },
 "nbformat": 4,
 "nbformat_minor": 5
}
