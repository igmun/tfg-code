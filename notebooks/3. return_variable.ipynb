{
 "cells": [
  {
   "cell_type": "markdown",
   "id": "c89f5ade",
   "metadata": {},
   "source": [
    "## Creamos Variable Retorno a la próxima ventana (12 meses futuro)"
   ]
  },
  {
   "cell_type": "markdown",
   "id": "3c9c4b6a",
   "metadata": {},
   "source": [
    "##### Esta variable requiere un paso extra y por ello se ha decidido separar en un notebook independiente. La variable retorno será importante en el cáculudo de la variable target. Si bien podemos coger el retorno a 12 meses pasado de la fila siguiente, algunas empresas salen del índice y por ello requiere consultar su precio a fecha de salida y calcular retornos así"
   ]
  },
  {
   "cell_type": "code",
   "execution_count": 1,
   "id": "f750d328",
   "metadata": {},
   "outputs": [],
   "source": [
    "import nasdaqdatalink as ndl\n",
    "import pandas as pd\n",
    "from ta import add_all_ta_features\n",
    "import pandas as pd\n",
    "import zipfile\n",
    "import json"
   ]
  },
  {
   "cell_type": "code",
   "execution_count": null,
   "id": "4959a9ce",
   "metadata": {},
   "outputs": [],
   "source": [
    "#configurations\n",
    "pd.set_option('display.max_columns', None)\n",
    "pd.set_option('display.max_rows', None)\n"
   ]
  },
  {
   "cell_type": "code",
   "execution_count": 5,
   "id": "8926665c",
   "metadata": {},
   "outputs": [],
   "source": [
    "with open(r'..\\config\\ndl-config.json') as f:\n",
    "    config = json.load(f)\n",
    "\n",
    "api_key = config['API_KEY']\n",
    "ndl.ApiConfig.api_key = api_key\n"
   ]
  },
  {
   "cell_type": "code",
   "execution_count": 2,
   "id": "13a68f9b",
   "metadata": {},
   "outputs": [],
   "source": [
    "merged = pd.read_csv(r'..\\data\\merged.csv', parse_dates=True)"
   ]
  },
  {
   "cell_type": "code",
   "execution_count": 5,
   "id": "96d89910",
   "metadata": {},
   "outputs": [
    {
     "data": {
      "text/html": [
       "<div>\n",
       "<style scoped>\n",
       "    .dataframe tbody tr th:only-of-type {\n",
       "        vertical-align: middle;\n",
       "    }\n",
       "\n",
       "    .dataframe tbody tr th {\n",
       "        vertical-align: top;\n",
       "    }\n",
       "\n",
       "    .dataframe thead th {\n",
       "        text-align: right;\n",
       "    }\n",
       "</style>\n",
       "<table border=\"1\" class=\"dataframe\">\n",
       "  <thead>\n",
       "    <tr style=\"text-align: right;\">\n",
       "      <th></th>\n",
       "      <th>date</th>\n",
       "      <th>ticker</th>\n",
       "      <th>year_x</th>\n",
       "      <th>trade_date</th>\n",
       "      <th>close_reb_adj</th>\n",
       "      <th>vol_1y</th>\n",
       "      <th>max_1y</th>\n",
       "      <th>min_1y</th>\n",
       "      <th>sma_1y</th>\n",
       "      <th>sma_2y</th>\n",
       "      <th>...</th>\n",
       "      <th>currentratio</th>\n",
       "      <th>capex</th>\n",
       "      <th>ncfo</th>\n",
       "      <th>equity</th>\n",
       "      <th>de</th>\n",
       "      <th>year_y</th>\n",
       "      <th>rebalance_date</th>\n",
       "      <th>closeadj</th>\n",
       "      <th>ret_6m</th>\n",
       "      <th>ret_12m</th>\n",
       "    </tr>\n",
       "  </thead>\n",
       "  <tbody>\n",
       "    <tr>\n",
       "      <th>0</th>\n",
       "      <td>2001-03-31</td>\n",
       "      <td>A</td>\n",
       "      <td>2001.0</td>\n",
       "      <td>2001-03-30</td>\n",
       "      <td>18.694</td>\n",
       "      <td>847576400.0</td>\n",
       "      <td>74.215</td>\n",
       "      <td>18.250</td>\n",
       "      <td>35.402956</td>\n",
       "      <td>38.759834</td>\n",
       "      <td>...</td>\n",
       "      <td>2.050</td>\n",
       "      <td>-702000000.0</td>\n",
       "      <td>838000000.0</td>\n",
       "      <td>5.265000e+09</td>\n",
       "      <td>0.600</td>\n",
       "      <td>2000.0</td>\n",
       "      <td>2001-03-31</td>\n",
       "      <td>18.694</td>\n",
       "      <td>-0.372073</td>\n",
       "      <td>-0.704513</td>\n",
       "    </tr>\n",
       "    <tr>\n",
       "      <th>1</th>\n",
       "      <td>2002-03-31</td>\n",
       "      <td>A</td>\n",
       "      <td>2002.0</td>\n",
       "      <td>2002-03-28</td>\n",
       "      <td>21.267</td>\n",
       "      <td>571608700.0</td>\n",
       "      <td>24.576</td>\n",
       "      <td>11.473</td>\n",
       "      <td>17.982242</td>\n",
       "      <td>26.952406</td>\n",
       "      <td>...</td>\n",
       "      <td>2.397</td>\n",
       "      <td>-594000000.0</td>\n",
       "      <td>-114000000.0</td>\n",
       "      <td>5.659000e+09</td>\n",
       "      <td>0.411</td>\n",
       "      <td>2001.0</td>\n",
       "      <td>2002-03-31</td>\n",
       "      <td>21.267</td>\n",
       "      <td>0.788195</td>\n",
       "      <td>0.137638</td>\n",
       "    </tr>\n",
       "    <tr>\n",
       "      <th>2</th>\n",
       "      <td>2003-03-31</td>\n",
       "      <td>A</td>\n",
       "      <td>2003.0</td>\n",
       "      <td>2003-03-31</td>\n",
       "      <td>7.999</td>\n",
       "      <td>677176600.0</td>\n",
       "      <td>22.222</td>\n",
       "      <td>6.600</td>\n",
       "      <td>11.631502</td>\n",
       "      <td>14.760365</td>\n",
       "      <td>...</td>\n",
       "      <td>2.238</td>\n",
       "      <td>-301000000.0</td>\n",
       "      <td>-585000000.0</td>\n",
       "      <td>4.627000e+09</td>\n",
       "      <td>0.773</td>\n",
       "      <td>2002.0</td>\n",
       "      <td>2003-03-31</td>\n",
       "      <td>7.999</td>\n",
       "      <td>0.006797</td>\n",
       "      <td>-0.623877</td>\n",
       "    </tr>\n",
       "    <tr>\n",
       "      <th>3</th>\n",
       "      <td>2004-03-31</td>\n",
       "      <td>A</td>\n",
       "      <td>2004.0</td>\n",
       "      <td>2004-03-31</td>\n",
       "      <td>19.241</td>\n",
       "      <td>653408900.0</td>\n",
       "      <td>22.806</td>\n",
       "      <td>8.352</td>\n",
       "      <td>15.060278</td>\n",
       "      <td>13.314752</td>\n",
       "      <td>...</td>\n",
       "      <td>2.040</td>\n",
       "      <td>-199000000.0</td>\n",
       "      <td>-144000000.0</td>\n",
       "      <td>2.824000e+09</td>\n",
       "      <td>1.230</td>\n",
       "      <td>2003.0</td>\n",
       "      <td>2004-03-31</td>\n",
       "      <td>19.241</td>\n",
       "      <td>0.430558</td>\n",
       "      <td>1.405426</td>\n",
       "    </tr>\n",
       "    <tr>\n",
       "      <th>4</th>\n",
       "      <td>2005-03-31</td>\n",
       "      <td>A</td>\n",
       "      <td>2005.0</td>\n",
       "      <td>2005-03-31</td>\n",
       "      <td>13.505</td>\n",
       "      <td>695043500.0</td>\n",
       "      <td>19.807</td>\n",
       "      <td>11.972</td>\n",
       "      <td>14.791570</td>\n",
       "      <td>14.926191</td>\n",
       "      <td>...</td>\n",
       "      <td>2.446</td>\n",
       "      <td>-96000000.0</td>\n",
       "      <td>663000000.0</td>\n",
       "      <td>3.569000e+09</td>\n",
       "      <td>0.977</td>\n",
       "      <td>2004.0</td>\n",
       "      <td>2005-03-31</td>\n",
       "      <td>13.505</td>\n",
       "      <td>0.029266</td>\n",
       "      <td>-0.298113</td>\n",
       "    </tr>\n",
       "  </tbody>\n",
       "</table>\n",
       "<p>5 rows × 35 columns</p>\n",
       "</div>"
      ],
      "text/plain": [
       "         date ticker  year_x  trade_date  close_reb_adj       vol_1y  max_1y  \\\n",
       "0  2001-03-31      A  2001.0  2001-03-30         18.694  847576400.0  74.215   \n",
       "1  2002-03-31      A  2002.0  2002-03-28         21.267  571608700.0  24.576   \n",
       "2  2003-03-31      A  2003.0  2003-03-31          7.999  677176600.0  22.222   \n",
       "3  2004-03-31      A  2004.0  2004-03-31         19.241  653408900.0  22.806   \n",
       "4  2005-03-31      A  2005.0  2005-03-31         13.505  695043500.0  19.807   \n",
       "\n",
       "   min_1y     sma_1y     sma_2y  ...  currentratio        capex         ncfo  \\\n",
       "0  18.250  35.402956  38.759834  ...         2.050 -702000000.0  838000000.0   \n",
       "1  11.473  17.982242  26.952406  ...         2.397 -594000000.0 -114000000.0   \n",
       "2   6.600  11.631502  14.760365  ...         2.238 -301000000.0 -585000000.0   \n",
       "3   8.352  15.060278  13.314752  ...         2.040 -199000000.0 -144000000.0   \n",
       "4  11.972  14.791570  14.926191  ...         2.446  -96000000.0  663000000.0   \n",
       "\n",
       "         equity     de  year_y  rebalance_date  closeadj    ret_6m   ret_12m  \n",
       "0  5.265000e+09  0.600  2000.0      2001-03-31    18.694 -0.372073 -0.704513  \n",
       "1  5.659000e+09  0.411  2001.0      2002-03-31    21.267  0.788195  0.137638  \n",
       "2  4.627000e+09  0.773  2002.0      2003-03-31     7.999  0.006797 -0.623877  \n",
       "3  2.824000e+09  1.230  2003.0      2004-03-31    19.241  0.430558  1.405426  \n",
       "4  3.569000e+09  0.977  2004.0      2005-03-31    13.505  0.029266 -0.298113  \n",
       "\n",
       "[5 rows x 35 columns]"
      ]
     },
     "execution_count": 5,
     "metadata": {},
     "output_type": "execute_result"
    }
   ],
   "source": [
    "merged.head()"
   ]
  },
  {
   "cell_type": "code",
   "execution_count": 3,
   "id": "09639206",
   "metadata": {},
   "outputs": [],
   "source": [
    "\n",
    "# Ordenar por ticker y date\n",
    "merged = merged.sort_values(['ticker', 'date'])\n",
    "# Calcular retorno a la próxima ventana para cada ticker\n",
    "merged['target_12m_shift'] = merged.groupby('ticker')['ret_12m'].shift(-1)\n"
   ]
  },
  {
   "cell_type": "markdown",
   "id": "ed6634d1",
   "metadata": {},
   "source": [
    "#### 1. Importamos empresas que han dejado el índice, ya que su retorno no será el del año siguiente sino el calculado a fecha de salida. Dado que nuestro universo es el SP500 solo invertimos en empresas del índice"
   ]
  },
  {
   "cell_type": "code",
   "execution_count": 6,
   "id": "2dffb90b",
   "metadata": {},
   "outputs": [
    {
     "name": "stderr",
     "output_type": "stream",
     "text": [
      "C:\\Users\\Ignacio\\AppData\\Local\\Temp\\ipykernel_17692\\1344144936.py:2: UserWarning: Pandas doesn't allow columns to be created via a new attribute name - see https://pandas.pydata.org/pandas-docs/stable/indexing.html#attribute-access\n",
      "  removed.df = removed[[\"date\",\"ticker\"]]\n"
     ]
    }
   ],
   "source": [
    "removed = ndl.get_table(\"SHARADAR/SP500\",action=['removed'],date={'gte':'1998-01-01'}, paginate=True)\n",
    "removed.df = removed[[\"date\",\"ticker\"]]\n",
    "removed.to_csv(r\"..\\data\\sp500_removed.csv\", index=False)"
   ]
  },
  {
   "cell_type": "markdown",
   "id": "f341189b",
   "metadata": {},
   "source": [
    "####  2. Identificamos las filas que necesitan tratamiento especial"
   ]
  },
  {
   "cell_type": "code",
   "execution_count": 7,
   "id": "298c41a9",
   "metadata": {},
   "outputs": [],
   "source": [
    "# Vamos a identificar para cada ticker los tramos (periodos entre entrada y salida)\n",
    "removed = removed.sort_values(['ticker', 'date'])\n",
    "\n",
    "# Creamos un helper que para cada fila en merged nos diga si la fecha de salida es antes de la próxima ventana\n",
    "import numpy as np\n",
    "\n",
    "def get_next_exit_date(ticker, date):\n",
    "    # Busca la PRÓXIMA fecha de salida de ese ticker después de la fecha actual\n",
    "    salida = removed[(removed['ticker']==ticker) & (removed['date'] > date)]['date']\n",
    "    if salida.empty:\n",
    "        return np.nan\n",
    "    else:\n",
    "        return salida.iloc[0]\n",
    "\n",
    "# Aplicamos la función a cada fila de merged\n",
    "merged['next_exit_date'] = merged.apply(lambda row: get_next_exit_date(row['ticker'], row['date']), axis=1)\n"
   ]
  },
  {
   "cell_type": "markdown",
   "id": "74771ae6",
   "metadata": {},
   "source": [
    "#### 3 Corregimos el target para los casos donde la salida ocurre antes de la próxima ventana"
   ]
  },
  {
   "cell_type": "code",
   "execution_count": 11,
   "id": "73976fd3",
   "metadata": {},
   "outputs": [],
   "source": [
    "# Importar csv con precios ajustados\n",
    "prices = pd.read_csv(\n",
    "    r\"../largefiles/prices.csv.gz\",\n",
    "    compression=\"gzip\",\n",
    "    parse_dates=[\"date\"]\n",
    ")[[\"ticker\", \"date\", \"closeadj\"]]"
   ]
  },
  {
   "cell_type": "code",
   "execution_count": 12,
   "id": "6498e307",
   "metadata": {},
   "outputs": [],
   "source": [
    "import pandas as pd\n",
    "\n",
    "# Convierte todas las fechas relevantes a datetime\n",
    "for df in [merged, removed, prices]:\n",
    "    for col in ['date', 'next_exit_date']:\n",
    "        if col in df.columns:\n",
    "            df[col] = pd.to_datetime(df[col])\n"
   ]
  },
  {
   "cell_type": "code",
   "execution_count": 13,
   "id": "bc805686",
   "metadata": {},
   "outputs": [],
   "source": [
    "# Helper para buscar el precio más cercano a la fecha de salida\n",
    "from datetime import timedelta\n",
    "\n",
    "def get_exit_price_near(ticker, exit_date, margin_days=15):\n",
    "    # Limita al margen de ±15 días\n",
    "    date_min = pd.to_datetime(exit_date) - timedelta(days=margin_days)\n",
    "    date_max = pd.to_datetime(exit_date) + timedelta(days=margin_days)\n",
    "    price = prices[\n",
    "        (prices['ticker'] == ticker) & \n",
    "        (prices['date'] >= date_min) & \n",
    "        (prices['date'] <= date_max)\n",
    "    ].copy()\n",
    "    if price.empty:\n",
    "        return np.nan\n",
    "    # Elige la fecha más cercana a exit_date (absoluta)\n",
    "    price['date_diff'] = (price['date'] - pd.to_datetime(exit_date)).abs()\n",
    "    nearest_row = price.sort_values('date_diff').iloc[0]\n",
    "    return nearest_row['closeadj']\n",
    "\n",
    "\n",
    "# Ahora creamos la columna para el retorno a salida cuando corresponda\n",
    "def calc_exit_return(row):\n",
    "    # Caso 1: No hay salida registrada o salida después de la próxima ventana -> usar shift normal\n",
    "    if pd.isna(row['next_exit_date']):\n",
    "        return row['target_12m_shift']\n",
    "    # Si la salida es antes de la próxima ventana, calcular retorno a la salida\n",
    "    next_shift_date = merged[\n",
    "        (merged['ticker'] == row['ticker']) & \n",
    "        (merged['date'] > row['date'])\n",
    "    ]['date'].min()\n",
    "    if pd.isna(next_shift_date) or row['next_exit_date'] < next_shift_date:\n",
    "        exit_price = get_exit_price_near(row['ticker'], row['next_exit_date'])\n",
    "        if pd.isna(exit_price):\n",
    "            return np.nan\n",
    "        return (exit_price - row['closeadj']) / row['closeadj']\n",
    "    else:\n",
    "        # Si la próxima ventana ocurre antes de la salida, usar shift normal\n",
    "        return row['target_12m_shift']\n",
    "\n",
    "merged['target_12m_final'] = merged.apply(calc_exit_return, axis=1)\n"
   ]
  },
  {
   "cell_type": "code",
   "execution_count": 14,
   "id": "3fb6f5eb",
   "metadata": {},
   "outputs": [],
   "source": [
    "merged.to_csv('../data/merged_with_returns.csv', index=False)"
   ]
  }
 ],
 "metadata": {
  "kernelspec": {
   "display_name": "sp500_env",
   "language": "python",
   "name": "python3"
  },
  "language_info": {
   "codemirror_mode": {
    "name": "ipython",
    "version": 3
   },
   "file_extension": ".py",
   "mimetype": "text/x-python",
   "name": "python",
   "nbconvert_exporter": "python",
   "pygments_lexer": "ipython3",
   "version": "3.11.5"
  }
 },
 "nbformat": 4,
 "nbformat_minor": 5
}
